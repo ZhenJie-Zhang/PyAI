{
 "cells": [
  {
   "cell_type": "markdown",
   "metadata": {},
   "source": [
    "# CNN-Copy1"
   ]
  },
  {
   "cell_type": "code",
   "execution_count": 1,
   "metadata": {},
   "outputs": [
    {
     "name": "stderr",
     "output_type": "stream",
     "text": [
      "Using TensorFlow backend.\n"
     ]
    }
   ],
   "source": [
    "from keras.datasets import cifar10\n",
    "# MAC 一定要加入此行, 才不會把對方伺服器的 SSL 證書視為無效\n",
    "import ssl\n",
    "ssl._create_default_https_context = ssl._create_unverified_context\n",
    "import matplotlib.pyplot as plt\n",
    "%matplotlib inline\n",
    "\n",
    "(x_train, y_train), (x_test, y_test) = cifar10.load_data()"
   ]
  },
  {
   "cell_type": "code",
   "execution_count": 2,
   "metadata": {},
   "outputs": [
    {
     "name": "stdout",
     "output_type": "stream",
     "text": [
      "(50000, 32, 32, 3)\n",
      "(10000, 32, 32, 3)\n"
     ]
    }
   ],
   "source": [
    "print(x_train.shape)\n",
    "print(x_test.shape)"
   ]
  },
  {
   "cell_type": "code",
   "execution_count": 3,
   "metadata": {},
   "outputs": [],
   "source": [
    "label = {0:\"飛機\", 1:\"車\", 2:\"鳥\", 3:\"貓\", 4:\"鹿\",\n",
    "         5:\"狗\", 6:\"青蛙\", 7:\"馬\", 8:\"船\", 9:\"卡車\"}"
   ]
  },
  {
   "cell_type": "code",
   "execution_count": 4,
   "metadata": {},
   "outputs": [
    {
     "name": "stdout",
     "output_type": "stream",
     "text": [
      "請輸入你想可視化的圖片 [0-49999]:14\n",
      "你想可視化的圖片號碼是 14\n",
      "圖片答案是 卡車\n"
     ]
    },
    {
     "data": {
      "text/plain": [
       "<matplotlib.image.AxesImage at 0x1a20c6c96a0>"
      ]
     },
     "execution_count": 4,
     "metadata": {},
     "output_type": "execute_result"
    },
    {
     "data": {
      "image/png": "[encoded data removed]",
      "text/plain": [
       "<Figure size 432x288 with 1 Axes>"
      ]
     },
     "metadata": {
      "needs_background": "light"
     },
     "output_type": "display_data"
    }
   ],
   "source": [
    "a = int(input(\"請輸入你想可視化的圖片 [0-49999]:\"))\n",
    "print(\"你想可視化的圖片號碼是\", a)\n",
    "print(\"圖片答案是\", label[y_train[a][0]])\n",
    "plt.imshow(x_train[a])"
   ]
  },
  {
   "cell_type": "code",
   "execution_count": 5,
   "metadata": {},
   "outputs": [],
   "source": [
    "# 對特徵做出標準化，並且對目標做出 One-hot 編碼\n",
    "from keras.utils import np_utils\n",
    "x_train_shaped = x_train.astype(\"float32\") / 255\n",
    "x_test_shaped = x_test.astype(\"float32\") / 255\n",
    "y_train_cat = np_utils.to_categorical(y_train)\n",
    "y_test_cat = np_utils.to_categorical(y_test)"
   ]
  },
  {
   "cell_type": "code",
   "execution_count": 6,
   "metadata": {},
   "outputs": [
    {
     "name": "stderr",
     "output_type": "stream",
     "text": [
      "WARNING: Logging before flag parsing goes to stderr.\n",
      "W0823 21:14:27.452054  1376 deprecation_wrapper.py:119] From c:\\users\\big data\\appdata\\local\\programs\\python\\python37\\lib\\site-packages\\keras\\backend\\tensorflow_backend.py:66: The name tf.get_default_graph is deprecated. Please use tf.compat.v1.get_default_graph instead.\n",
      "\n",
      "W0823 21:14:27.466018  1376 deprecation_wrapper.py:119] From c:\\users\\big data\\appdata\\local\\programs\\python\\python37\\lib\\site-packages\\keras\\backend\\tensorflow_backend.py:541: The name tf.placeholder is deprecated. Please use tf.compat.v1.placeholder instead.\n",
      "\n",
      "W0823 21:14:27.467985  1376 deprecation_wrapper.py:119] From c:\\users\\big data\\appdata\\local\\programs\\python\\python37\\lib\\site-packages\\keras\\backend\\tensorflow_backend.py:4432: The name tf.random_uniform is deprecated. Please use tf.random.uniform instead.\n",
      "\n",
      "W0823 21:14:27.487931  1376 deprecation_wrapper.py:119] From c:\\users\\big data\\appdata\\local\\programs\\python\\python37\\lib\\site-packages\\keras\\backend\\tensorflow_backend.py:4267: The name tf.nn.max_pool is deprecated. Please use tf.nn.max_pool2d instead.\n",
      "\n",
      "W0823 21:14:27.489946  1376 deprecation_wrapper.py:119] From c:\\users\\big data\\appdata\\local\\programs\\python\\python37\\lib\\site-packages\\keras\\backend\\tensorflow_backend.py:148: The name tf.placeholder_with_default is deprecated. Please use tf.compat.v1.placeholder_with_default instead.\n",
      "\n",
      "W0823 21:14:27.494940  1376 deprecation.py:506] From c:\\users\\big data\\appdata\\local\\programs\\python\\python37\\lib\\site-packages\\keras\\backend\\tensorflow_backend.py:3733: calling dropout (from tensorflow.python.ops.nn_ops) with keep_prob is deprecated and will be removed in a future version.\n",
      "Instructions for updating:\n",
      "Please use `rate` instead of `keep_prob`. Rate should be set to `rate = 1 - keep_prob`.\n"
     ]
    },
    {
     "name": "stdout",
     "output_type": "stream",
     "text": [
      "Model: \"sequential_1\"\n",
      "_________________________________________________________________\n",
      "Layer (type)                 Output Shape              Param #   \n",
      "=================================================================\n",
      "conv2d_1 (Conv2D)            (None, 32, 32, 64)        1792      \n",
      "_________________________________________________________________\n",
      "conv2d_2 (Conv2D)            (None, 32, 32, 64)        36928     \n",
      "_________________________________________________________________\n",
      "max_pooling2d_1 (MaxPooling2 (None, 16, 16, 64)        0         \n",
      "_________________________________________________________________\n",
      "dropout_1 (Dropout)          (None, 16, 16, 64)        0         \n",
      "_________________________________________________________________\n",
      "conv2d_3 (Conv2D)            (None, 16, 16, 128)       73856     \n",
      "_________________________________________________________________\n",
      "conv2d_4 (Conv2D)            (None, 16, 16, 128)       147584    \n",
      "_________________________________________________________________\n",
      "max_pooling2d_2 (MaxPooling2 (None, 8, 8, 128)         0         \n",
      "_________________________________________________________________\n",
      "dropout_2 (Dropout)          (None, 8, 8, 128)         0         \n",
      "_________________________________________________________________\n",
      "conv2d_5 (Conv2D)            (None, 8, 8, 256)         295168    \n",
      "_________________________________________________________________\n",
      "conv2d_6 (Conv2D)            (None, 8, 8, 256)         590080    \n",
      "_________________________________________________________________\n",
      "max_pooling2d_3 (MaxPooling2 (None, 4, 4, 256)         0         \n",
      "_________________________________________________________________\n",
      "flatten_1 (Flatten)          (None, 4096)              0         \n",
      "_________________________________________________________________\n",
      "dropout_3 (Dropout)          (None, 4096)              0         \n",
      "_________________________________________________________________\n",
      "dense_1 (Dense)              (None, 1024)              4195328   \n",
      "_________________________________________________________________\n",
      "dropout_4 (Dropout)          (None, 1024)              0         \n",
      "_________________________________________________________________\n",
      "dense_2 (Dense)              (None, 10)                10250     \n",
      "=================================================================\n",
      "Total params: 5,350,986\n",
      "Trainable params: 5,350,986\n",
      "Non-trainable params: 0\n",
      "_________________________________________________________________\n"
     ]
    }
   ],
   "source": [
    "# 這次我們真的遵照 VGG-16 的結構來構建卷積層，我們總共做了 6 次的卷積 (特徵萃取)，\n",
    "# 三次的池化 (減少計算量)，最後在接上全連接層做出分類\n",
    "from keras.models import Sequential\n",
    "from keras.layers import Dense, Dropout, Activation, Flatten\n",
    "from keras.layers import Conv2D, MaxPooling2D, ZeroPadding2D\n",
    "model = Sequential()\n",
    "model.add(Conv2D(filters=64,\n",
    "                 kernel_size=(3, 3),\n",
    "                 input_shape=(32, 32, 3),\n",
    "                 activation='relu',\n",
    "                 padding='same'))\n",
    "model.add(Conv2D(filters=64,\n",
    "                 kernel_size=(3, 3),\n",
    "                 activation='relu',\n",
    "                 padding='same'))\n",
    "model.add(MaxPooling2D(pool_size=(2, 2)))\n",
    "\n",
    "model.add(Dropout(0.25))\n",
    "model.add(Conv2D(filters=128,\n",
    "                 kernel_size=(3, 3),\n",
    "                 activation='relu',\n",
    "                 padding='same'))\n",
    "model.add(Conv2D(filters=128,\n",
    "                 kernel_size=(3, 3),\n",
    "                 activation='relu',\n",
    "                 padding='same'))\n",
    "model.add(MaxPooling2D(pool_size=(2, 2)))\n",
    "\n",
    "model.add(Dropout(0.25))\n",
    "model.add(Conv2D(filters=256,\n",
    "                 kernel_size=(3, 3),\n",
    "                 activation='relu',\n",
    "                 padding='same'))\n",
    "model.add(Conv2D(filters=256,\n",
    "kernel_size=(3, 3),\n",
    "activation='relu',\n",
    "padding='same'))\n",
    "model.add(MaxPooling2D(pool_size=(2, 2)))\n",
    "\n",
    "model.add(Flatten())\n",
    "model.add(Dropout(rate=0.25))\n",
    "\n",
    "model.add(Dense(1024, activation='relu'))\n",
    "model.add(Dropout(rate=0.25))\n",
    "\n",
    "model.add(Dense(10, activation='softmax'))\n",
    "model.summary()"
   ]
  },
  {
   "cell_type": "code",
   "execution_count": 7,
   "metadata": {
    "scrolled": false
   },
   "outputs": [
    {
     "data": {
      "image/svg+xml": [
       "<svg height=\"1617pt\" viewBox=\"0.00 0.00 217.00 1213.00\" width=\"289pt\" xmlns=\"http://www.w3.org/2000/svg\" xmlns:xlink=\"http://www.w3.org/1999/xlink\">\n",
       "<g class=\"graph\" id=\"graph0\" transform=\"scale(1.33333 1.33333) rotate(0) translate(4 1209)\">\n",
       "<title>G</title>\n",
       "<polygon fill=\"white\" points=\"-4,4 -4,-1209 213,-1209 213,4 -4,4\" stroke=\"none\"/>\n",
       "<!-- 1795521927152 -->\n",
       "<g class=\"node\" id=\"node1\"><title>1795521927152</title>\n",
       "<polygon fill=\"none\" points=\"16.5,-1168.5 16.5,-1204.5 192.5,-1204.5 192.5,-1168.5 16.5,-1168.5\" stroke=\"black\"/>\n",
       "<text font-family=\"Times New Roman,serif\" font-size=\"14.00\" text-anchor=\"middle\" x=\"104.5\" y=\"-1182.8\">conv2d_1_input: InputLayer</text>\n",
       "</g>\n",
       "<!-- 1795521926256 -->\n",
       "<g class=\"node\" id=\"node2\"><title>1795521926256</title>\n",
       "<polygon fill=\"none\" points=\"41,-1095.5 41,-1131.5 168,-1131.5 168,-1095.5 41,-1095.5\" stroke=\"black\"/>\n",
       "<text font-family=\"Times New Roman,serif\" font-size=\"14.00\" text-anchor=\"middle\" x=\"104.5\" y=\"-1109.8\">conv2d_1: Conv2D</text>\n",
       "</g>\n",
       "<!-- 1795521927152&#45;&gt;1795521926256 -->\n",
       "<g class=\"edge\" id=\"edge1\"><title>1795521927152-&gt;1795521926256</title>\n",
       "<path d=\"M104.5,-1168.31C104.5,-1160.29 104.5,-1150.55 104.5,-1141.57\" fill=\"none\" stroke=\"black\"/>\n",
       "<polygon fill=\"black\" points=\"108,-1141.53 104.5,-1131.53 101,-1141.53 108,-1141.53\" stroke=\"black\"/>\n",
       "</g>\n",
       "<!-- 1795341407064 -->\n",
       "<g class=\"node\" id=\"node3\"><title>1795341407064</title>\n",
       "<polygon fill=\"none\" points=\"41,-1022.5 41,-1058.5 168,-1058.5 168,-1022.5 41,-1022.5\" stroke=\"black\"/>\n",
       "<text font-family=\"Times New Roman,serif\" font-size=\"14.00\" text-anchor=\"middle\" x=\"104.5\" y=\"-1036.8\">conv2d_2: Conv2D</text>\n",
       "</g>\n",
       "<!-- 1795521926256&#45;&gt;1795341407064 -->\n",
       "<g class=\"edge\" id=\"edge2\"><title>1795521926256-&gt;1795341407064</title>\n",
       "<path d=\"M104.5,-1095.31C104.5,-1087.29 104.5,-1077.55 104.5,-1068.57\" fill=\"none\" stroke=\"black\"/>\n",
       "<polygon fill=\"black\" points=\"108,-1068.53 104.5,-1058.53 101,-1068.53 108,-1068.53\" stroke=\"black\"/>\n",
       "</g>\n",
       "<!-- 1795521927264 -->\n",
       "<g class=\"node\" id=\"node4\"><title>1795521927264</title>\n",
       "<polygon fill=\"none\" points=\"0,-949.5 0,-985.5 209,-985.5 209,-949.5 0,-949.5\" stroke=\"black\"/>\n",
       "<text font-family=\"Times New Roman,serif\" font-size=\"14.00\" text-anchor=\"middle\" x=\"104.5\" y=\"-963.8\">max_pooling2d_1: MaxPooling2D</text>\n",
       "</g>\n",
       "<!-- 1795341407064&#45;&gt;1795521927264 -->\n",
       "<g class=\"edge\" id=\"edge3\"><title>1795341407064-&gt;1795521927264</title>\n",
       "<path d=\"M104.5,-1022.31C104.5,-1014.29 104.5,-1004.55 104.5,-995.569\" fill=\"none\" stroke=\"black\"/>\n",
       "<polygon fill=\"black\" points=\"108,-995.529 104.5,-985.529 101,-995.529 108,-995.529\" stroke=\"black\"/>\n",
       "</g>\n",
       "<!-- 1795524150048 -->\n",
       "<g class=\"node\" id=\"node5\"><title>1795524150048</title>\n",
       "<polygon fill=\"none\" points=\"39.5,-876.5 39.5,-912.5 169.5,-912.5 169.5,-876.5 39.5,-876.5\" stroke=\"black\"/>\n",
       "<text font-family=\"Times New Roman,serif\" font-size=\"14.00\" text-anchor=\"middle\" x=\"104.5\" y=\"-890.8\">dropout_1: Dropout</text>\n",
       "</g>\n",
       "<!-- 1795521927264&#45;&gt;1795524150048 -->\n",
       "<g class=\"edge\" id=\"edge4\"><title>1795521927264-&gt;1795524150048</title>\n",
       "<path d=\"M104.5,-949.313C104.5,-941.289 104.5,-931.547 104.5,-922.569\" fill=\"none\" stroke=\"black\"/>\n",
       "<polygon fill=\"black\" points=\"108,-922.529 104.5,-912.529 101,-922.529 108,-922.529\" stroke=\"black\"/>\n",
       "</g>\n",
       "<!-- 1795521927712 -->\n",
       "<g class=\"node\" id=\"node6\"><title>1795521927712</title>\n",
       "<polygon fill=\"none\" points=\"41,-803.5 41,-839.5 168,-839.5 168,-803.5 41,-803.5\" stroke=\"black\"/>\n",
       "<text font-family=\"Times New Roman,serif\" font-size=\"14.00\" text-anchor=\"middle\" x=\"104.5\" y=\"-817.8\">conv2d_3: Conv2D</text>\n",
       "</g>\n",
       "<!-- 1795524150048&#45;&gt;1795521927712 -->\n",
       "<g class=\"edge\" id=\"edge5\"><title>1795524150048-&gt;1795521927712</title>\n",
       "<path d=\"M104.5,-876.313C104.5,-868.289 104.5,-858.547 104.5,-849.569\" fill=\"none\" stroke=\"black\"/>\n",
       "<polygon fill=\"black\" points=\"108,-849.529 104.5,-839.529 101,-849.529 108,-849.529\" stroke=\"black\"/>\n",
       "</g>\n",
       "<!-- 1795524150888 -->\n",
       "<g class=\"node\" id=\"node7\"><title>1795524150888</title>\n",
       "<polygon fill=\"none\" points=\"41,-730.5 41,-766.5 168,-766.5 168,-730.5 41,-730.5\" stroke=\"black\"/>\n",
       "<text font-family=\"Times New Roman,serif\" font-size=\"14.00\" text-anchor=\"middle\" x=\"104.5\" y=\"-744.8\">conv2d_4: Conv2D</text>\n",
       "</g>\n",
       "<!-- 1795521927712&#45;&gt;1795524150888 -->\n",
       "<g class=\"edge\" id=\"edge6\"><title>1795521927712-&gt;1795524150888</title>\n",
       "<path d=\"M104.5,-803.313C104.5,-795.289 104.5,-785.547 104.5,-776.569\" fill=\"none\" stroke=\"black\"/>\n",
       "<polygon fill=\"black\" points=\"108,-776.529 104.5,-766.529 101,-776.529 108,-776.529\" stroke=\"black\"/>\n",
       "</g>\n",
       "<!-- 1795524401360 -->\n",
       "<g class=\"node\" id=\"node8\"><title>1795524401360</title>\n",
       "<polygon fill=\"none\" points=\"0,-657.5 0,-693.5 209,-693.5 209,-657.5 0,-657.5\" stroke=\"black\"/>\n",
       "<text font-family=\"Times New Roman,serif\" font-size=\"14.00\" text-anchor=\"middle\" x=\"104.5\" y=\"-671.8\">max_pooling2d_2: MaxPooling2D</text>\n",
       "</g>\n",
       "<!-- 1795524150888&#45;&gt;1795524401360 -->\n",
       "<g class=\"edge\" id=\"edge7\"><title>1795524150888-&gt;1795524401360</title>\n",
       "<path d=\"M104.5,-730.313C104.5,-722.289 104.5,-712.547 104.5,-703.569\" fill=\"none\" stroke=\"black\"/>\n",
       "<polygon fill=\"black\" points=\"108,-703.529 104.5,-693.529 101,-703.529 108,-703.529\" stroke=\"black\"/>\n",
       "</g>\n",
       "<!-- 1795524826560 -->\n",
       "<g class=\"node\" id=\"node9\"><title>1795524826560</title>\n",
       "<polygon fill=\"none\" points=\"39.5,-584.5 39.5,-620.5 169.5,-620.5 169.5,-584.5 39.5,-584.5\" stroke=\"black\"/>\n",
       "<text font-family=\"Times New Roman,serif\" font-size=\"14.00\" text-anchor=\"middle\" x=\"104.5\" y=\"-598.8\">dropout_2: Dropout</text>\n",
       "</g>\n",
       "<!-- 1795524401360&#45;&gt;1795524826560 -->\n",
       "<g class=\"edge\" id=\"edge8\"><title>1795524401360-&gt;1795524826560</title>\n",
       "<path d=\"M104.5,-657.313C104.5,-649.289 104.5,-639.547 104.5,-630.569\" fill=\"none\" stroke=\"black\"/>\n",
       "<polygon fill=\"black\" points=\"108,-630.529 104.5,-620.529 101,-630.529 108,-630.529\" stroke=\"black\"/>\n",
       "</g>\n",
       "<!-- 1795524660808 -->\n",
       "<g class=\"node\" id=\"node10\"><title>1795524660808</title>\n",
       "<polygon fill=\"none\" points=\"41,-511.5 41,-547.5 168,-547.5 168,-511.5 41,-511.5\" stroke=\"black\"/>\n",
       "<text font-family=\"Times New Roman,serif\" font-size=\"14.00\" text-anchor=\"middle\" x=\"104.5\" y=\"-525.8\">conv2d_5: Conv2D</text>\n",
       "</g>\n",
       "<!-- 1795524826560&#45;&gt;1795524660808 -->\n",
       "<g class=\"edge\" id=\"edge9\"><title>1795524826560-&gt;1795524660808</title>\n",
       "<path d=\"M104.5,-584.313C104.5,-576.289 104.5,-566.547 104.5,-557.569\" fill=\"none\" stroke=\"black\"/>\n",
       "<polygon fill=\"black\" points=\"108,-557.529 104.5,-547.529 101,-557.529 108,-557.529\" stroke=\"black\"/>\n",
       "</g>\n",
       "<!-- 1795524660304 -->\n",
       "<g class=\"node\" id=\"node11\"><title>1795524660304</title>\n",
       "<polygon fill=\"none\" points=\"41,-438.5 41,-474.5 168,-474.5 168,-438.5 41,-438.5\" stroke=\"black\"/>\n",
       "<text font-family=\"Times New Roman,serif\" font-size=\"14.00\" text-anchor=\"middle\" x=\"104.5\" y=\"-452.8\">conv2d_6: Conv2D</text>\n",
       "</g>\n",
       "<!-- 1795524660808&#45;&gt;1795524660304 -->\n",
       "<g class=\"edge\" id=\"edge10\"><title>1795524660808-&gt;1795524660304</title>\n",
       "<path d=\"M104.5,-511.313C104.5,-503.289 104.5,-493.547 104.5,-484.569\" fill=\"none\" stroke=\"black\"/>\n",
       "<polygon fill=\"black\" points=\"108,-484.529 104.5,-474.529 101,-484.529 108,-484.529\" stroke=\"black\"/>\n",
       "</g>\n",
       "<!-- 1795525018512 -->\n",
       "<g class=\"node\" id=\"node12\"><title>1795525018512</title>\n",
       "<polygon fill=\"none\" points=\"0,-365.5 0,-401.5 209,-401.5 209,-365.5 0,-365.5\" stroke=\"black\"/>\n",
       "<text font-family=\"Times New Roman,serif\" font-size=\"14.00\" text-anchor=\"middle\" x=\"104.5\" y=\"-379.8\">max_pooling2d_3: MaxPooling2D</text>\n",
       "</g>\n",
       "<!-- 1795524660304&#45;&gt;1795525018512 -->\n",
       "<g class=\"edge\" id=\"edge11\"><title>1795524660304-&gt;1795525018512</title>\n",
       "<path d=\"M104.5,-438.313C104.5,-430.289 104.5,-420.547 104.5,-411.569\" fill=\"none\" stroke=\"black\"/>\n",
       "<polygon fill=\"black\" points=\"108,-411.529 104.5,-401.529 101,-411.529 108,-411.529\" stroke=\"black\"/>\n",
       "</g>\n",
       "<!-- 1795525315160 -->\n",
       "<g class=\"node\" id=\"node13\"><title>1795525315160</title>\n",
       "<polygon fill=\"none\" points=\"50,-292.5 50,-328.5 159,-328.5 159,-292.5 50,-292.5\" stroke=\"black\"/>\n",
       "<text font-family=\"Times New Roman,serif\" font-size=\"14.00\" text-anchor=\"middle\" x=\"104.5\" y=\"-306.8\">flatten_1: Flatten</text>\n",
       "</g>\n",
       "<!-- 1795525018512&#45;&gt;1795525315160 -->\n",
       "<g class=\"edge\" id=\"edge12\"><title>1795525018512-&gt;1795525315160</title>\n",
       "<path d=\"M104.5,-365.313C104.5,-357.289 104.5,-347.547 104.5,-338.569\" fill=\"none\" stroke=\"black\"/>\n",
       "<polygon fill=\"black\" points=\"108,-338.529 104.5,-328.529 101,-338.529 108,-338.529\" stroke=\"black\"/>\n",
       "</g>\n",
       "<!-- 1795525315832 -->\n",
       "<g class=\"node\" id=\"node14\"><title>1795525315832</title>\n",
       "<polygon fill=\"none\" points=\"39.5,-219.5 39.5,-255.5 169.5,-255.5 169.5,-219.5 39.5,-219.5\" stroke=\"black\"/>\n",
       "<text font-family=\"Times New Roman,serif\" font-size=\"14.00\" text-anchor=\"middle\" x=\"104.5\" y=\"-233.8\">dropout_3: Dropout</text>\n",
       "</g>\n",
       "<!-- 1795525315160&#45;&gt;1795525315832 -->\n",
       "<g class=\"edge\" id=\"edge13\"><title>1795525315160-&gt;1795525315832</title>\n",
       "<path d=\"M104.5,-292.313C104.5,-284.289 104.5,-274.547 104.5,-265.569\" fill=\"none\" stroke=\"black\"/>\n",
       "<polygon fill=\"black\" points=\"108,-265.529 104.5,-255.529 101,-265.529 108,-265.529\" stroke=\"black\"/>\n",
       "</g>\n",
       "<!-- 1795525379800 -->\n",
       "<g class=\"node\" id=\"node15\"><title>1795525379800</title>\n",
       "<polygon fill=\"none\" points=\"52.5,-146.5 52.5,-182.5 156.5,-182.5 156.5,-146.5 52.5,-146.5\" stroke=\"black\"/>\n",
       "<text font-family=\"Times New Roman,serif\" font-size=\"14.00\" text-anchor=\"middle\" x=\"104.5\" y=\"-160.8\">dense_1: Dense</text>\n",
       "</g>\n",
       "<!-- 1795525315832&#45;&gt;1795525379800 -->\n",
       "<g class=\"edge\" id=\"edge14\"><title>1795525315832-&gt;1795525379800</title>\n",
       "<path d=\"M104.5,-219.313C104.5,-211.289 104.5,-201.547 104.5,-192.569\" fill=\"none\" stroke=\"black\"/>\n",
       "<polygon fill=\"black\" points=\"108,-192.529 104.5,-182.529 101,-192.529 108,-192.529\" stroke=\"black\"/>\n",
       "</g>\n",
       "<!-- 1795525380472 -->\n",
       "<g class=\"node\" id=\"node16\"><title>1795525380472</title>\n",
       "<polygon fill=\"none\" points=\"39.5,-73.5 39.5,-109.5 169.5,-109.5 169.5,-73.5 39.5,-73.5\" stroke=\"black\"/>\n",
       "<text font-family=\"Times New Roman,serif\" font-size=\"14.00\" text-anchor=\"middle\" x=\"104.5\" y=\"-87.8\">dropout_4: Dropout</text>\n",
       "</g>\n",
       "<!-- 1795525379800&#45;&gt;1795525380472 -->\n",
       "<g class=\"edge\" id=\"edge15\"><title>1795525379800-&gt;1795525380472</title>\n",
       "<path d=\"M104.5,-146.313C104.5,-138.289 104.5,-128.547 104.5,-119.569\" fill=\"none\" stroke=\"black\"/>\n",
       "<polygon fill=\"black\" points=\"108,-119.529 104.5,-109.529 101,-119.529 108,-119.529\" stroke=\"black\"/>\n",
       "</g>\n",
       "<!-- 1795525477880 -->\n",
       "<g class=\"node\" id=\"node17\"><title>1795525477880</title>\n",
       "<polygon fill=\"none\" points=\"52.5,-0.5 52.5,-36.5 156.5,-36.5 156.5,-0.5 52.5,-0.5\" stroke=\"black\"/>\n",
       "<text font-family=\"Times New Roman,serif\" font-size=\"14.00\" text-anchor=\"middle\" x=\"104.5\" y=\"-14.8\">dense_2: Dense</text>\n",
       "</g>\n",
       "<!-- 1795525380472&#45;&gt;1795525477880 -->\n",
       "<g class=\"edge\" id=\"edge16\"><title>1795525380472-&gt;1795525477880</title>\n",
       "<path d=\"M104.5,-73.3129C104.5,-65.2895 104.5,-55.5475 104.5,-46.5691\" fill=\"none\" stroke=\"black\"/>\n",
       "<polygon fill=\"black\" points=\"108,-46.5288 104.5,-36.5288 101,-46.5289 108,-46.5288\" stroke=\"black\"/>\n",
       "</g>\n",
       "</g>\n",
       "</svg>"
      ],
      "text/plain": [
       "<IPython.core.display.SVG object>"
      ]
     },
     "execution_count": 7,
     "metadata": {},
     "output_type": "execute_result"
    }
   ],
   "source": [
    "from IPython.display import SVG\n",
    "from keras.utils.vis_utils import model_to_dot\n",
    "SVG(model_to_dot(model).create(prog='dot', format='svg'))"
   ]
  },
  {
   "cell_type": "code",
   "execution_count": 8,
   "metadata": {},
   "outputs": [
    {
     "name": "stderr",
     "output_type": "stream",
     "text": [
      "W0823 21:25:46.033857  1376 deprecation_wrapper.py:119] From c:\\users\\big data\\appdata\\local\\programs\\python\\python37\\lib\\site-packages\\keras\\optimizers.py:793: The name tf.train.Optimizer is deprecated. Please use tf.compat.v1.train.Optimizer instead.\n",
      "\n",
      "W0823 21:25:46.050812  1376 deprecation_wrapper.py:119] From c:\\users\\big data\\appdata\\local\\programs\\python\\python37\\lib\\site-packages\\keras\\backend\\tensorflow_backend.py:3576: The name tf.log is deprecated. Please use tf.math.log instead.\n",
      "\n",
      "W0823 21:25:46.112741  1376 deprecation.py:323] From c:\\users\\big data\\appdata\\local\\programs\\python\\python37\\lib\\site-packages\\tensorflow\\python\\ops\\math_grad.py:1250: add_dispatch_support.<locals>.wrapper (from tensorflow.python.ops.array_ops) is deprecated and will be removed in a future version.\n",
      "Instructions for updating:\n",
      "Use tf.where in 2.0, which has the same broadcast rule as np.where\n"
     ]
    },
    {
     "name": "stdout",
     "output_type": "stream",
     "text": [
      "Train on 45000 samples, validate on 5000 samples\n",
      "Epoch 1/25\n",
      " - 34s - loss: 1.7585 - acc: 0.3483 - val_loss: 1.3702 - val_acc: 0.4896\n",
      "Epoch 2/25\n",
      " - 30s - loss: 1.2648 - acc: 0.5421 - val_loss: 1.0730 - val_acc: 0.6190\n",
      "Epoch 3/25\n",
      " - 30s - loss: 1.0072 - acc: 0.6412 - val_loss: 0.8440 - val_acc: 0.7052\n",
      "Epoch 4/25\n",
      " - 29s - loss: 0.8614 - acc: 0.6935 - val_loss: 0.7469 - val_acc: 0.7412\n",
      "Epoch 5/25\n",
      " - 30s - loss: 0.7425 - acc: 0.7375 - val_loss: 0.6726 - val_acc: 0.7706\n",
      "Epoch 6/25\n",
      " - 30s - loss: 0.6545 - acc: 0.7690 - val_loss: 0.7375 - val_acc: 0.7462\n",
      "Epoch 7/25\n",
      " - 30s - loss: 0.5904 - acc: 0.7923 - val_loss: 0.6201 - val_acc: 0.7796\n",
      "Epoch 8/25\n",
      " - 30s - loss: 0.5243 - acc: 0.8124 - val_loss: 0.5888 - val_acc: 0.7994\n",
      "Epoch 9/25\n",
      " - 30s - loss: 0.4819 - acc: 0.8266 - val_loss: 0.5877 - val_acc: 0.7998\n",
      "Epoch 10/25\n",
      " - 36s - loss: 0.4322 - acc: 0.8460 - val_loss: 0.5749 - val_acc: 0.8070\n",
      "Epoch 11/25\n",
      " - 44s - loss: 0.3895 - acc: 0.8624 - val_loss: 0.5918 - val_acc: 0.8154\n",
      "Epoch 12/25\n",
      " - 30s - loss: 0.3554 - acc: 0.8747 - val_loss: 0.5739 - val_acc: 0.8162\n",
      "Epoch 13/25\n",
      " - 30s - loss: 0.3323 - acc: 0.8808 - val_loss: 0.5470 - val_acc: 0.8200\n",
      "Epoch 14/25\n",
      " - 30s - loss: 0.2956 - acc: 0.8935 - val_loss: 0.5868 - val_acc: 0.8184\n",
      "Epoch 15/25\n",
      " - 30s - loss: 0.2715 - acc: 0.9042 - val_loss: 0.6232 - val_acc: 0.8180\n",
      "Epoch 16/25\n",
      " - 30s - loss: 0.2518 - acc: 0.9112 - val_loss: 0.6150 - val_acc: 0.8228\n",
      "Epoch 17/25\n",
      " - 30s - loss: 0.2431 - acc: 0.9142 - val_loss: 0.5959 - val_acc: 0.8260\n",
      "Epoch 18/25\n",
      " - 30s - loss: 0.2282 - acc: 0.9202 - val_loss: 0.6416 - val_acc: 0.8178\n",
      "Epoch 19/25\n",
      " - 30s - loss: 0.2016 - acc: 0.9294 - val_loss: 0.6551 - val_acc: 0.8212\n",
      "Epoch 20/25\n",
      " - 30s - loss: 0.2008 - acc: 0.9293 - val_loss: 0.7066 - val_acc: 0.8174\n",
      "Epoch 21/25\n",
      " - 30s - loss: 0.1882 - acc: 0.9336 - val_loss: 0.6903 - val_acc: 0.8182\n",
      "Epoch 22/25\n",
      " - 30s - loss: 0.1741 - acc: 0.9392 - val_loss: 0.6418 - val_acc: 0.8268\n",
      "Epoch 23/25\n",
      " - 30s - loss: 0.1683 - acc: 0.9414 - val_loss: 0.6577 - val_acc: 0.8184\n",
      "Epoch 24/25\n",
      " - 30s - loss: 0.1720 - acc: 0.9393 - val_loss: 0.6738 - val_acc: 0.8166\n",
      "Epoch 25/25\n",
      " - 30s - loss: 0.1613 - acc: 0.9441 - val_loss: 0.6877 - val_acc: 0.8214\n"
     ]
    }
   ],
   "source": [
    "model.compile(loss=\"categorical_crossentropy\",\n",
    "              optimizer = \"adam\",\n",
    "              metrics = ['accuracy'])\n",
    "train_history = model.fit(x = x_train_shaped, y = y_train_cat,\n",
    "                          validation_split = 0.1,\n",
    "                          epochs = 25,\n",
    "                          batch_size = 200,\n",
    "                          verbose = 2)"
   ]
  },
  {
   "cell_type": "code",
   "execution_count": 9,
   "metadata": {},
   "outputs": [
    {
     "data": {
      "text/plain": [
       "<matplotlib.legend.Legend at 0x1a20dd001d0>"
      ]
     },
     "execution_count": 9,
     "metadata": {},
     "output_type": "execute_result"
    },
    {
     "data": {
      "image/png": "[encoded data removed]",
      "text/plain": [
       "<Figure size 432x288 with 1 Axes>"
      ]
     },
     "metadata": {
      "needs_background": "light"
     },
     "output_type": "display_data"
    }
   ],
   "source": [
    "plt.plot(train_history.history[\"loss\"])\n",
    "plt.plot(train_history.history[\"val_loss\"])\n",
    "plt.title(\"Loss Graph\")\n",
    "plt.legend(['loss', 'val_loss'], loc=\"upper left\")"
   ]
  },
  {
   "cell_type": "code",
   "execution_count": 10,
   "metadata": {},
   "outputs": [
    {
     "name": "stdout",
     "output_type": "stream",
     "text": [
      "10000/10000 [==============================] - 3s 285us/step\n"
     ]
    },
    {
     "data": {
      "text/plain": [
       "[0.71579971036911, 0.816]"
      ]
     },
     "execution_count": 10,
     "metadata": {},
     "output_type": "execute_result"
    }
   ],
   "source": [
    "model.evaluate(x_test_shaped, y_test_cat)"
   ]
  }
 ],
 "metadata": {
  "kernelspec": {
   "display_name": "Python 3",
   "language": "python",
   "name": "python3"
  },
  "language_info": {
   "codemirror_mode": {
    "name": "ipython",
    "version": 3
   },
   "file_extension": ".py",
   "mimetype": "text/x-python",
   "name": "python",
   "nbconvert_exporter": "python",
   "pygments_lexer": "ipython3",
   "version": "3.7.0"
  }
 },
 "nbformat": 4,
 "nbformat_minor": 2
}
