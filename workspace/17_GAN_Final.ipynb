{
 "cells": [
  {
   "cell_type": "markdown",
   "metadata": {},
   "source": [
    "# 生成式對抗網路 - GAN"
   ]
  },
  {
   "cell_type": "code",
   "execution_count": 1,
   "metadata": {},
   "outputs": [
    {
     "name": "stderr",
     "output_type": "stream",
     "text": [
      "Using TensorFlow backend.\n"
     ]
    }
   ],
   "source": [
    "from keras.layers import Input\n",
    "from keras.models import Model, Sequential\n",
    "from keras.layers.core import Reshape, Dense, Dropout, Flatten\n",
    "from keras.layers import Embedding, BatchNormalization\n",
    "from keras.datasets import mnist\n",
    "import numpy as np\n",
    "%matplotlib inline\n",
    "# 我們會使用到一些內建的資料庫, MAC 需要加入以下兩行, 才不會把對方的 ssl 憑證視為無效\n",
    "import ssl\n",
    "ssl._create_default_https_context = ssl._create_unverified_context"
   ]
  },
  {
   "cell_type": "code",
   "execution_count": 2,
   "metadata": {},
   "outputs": [],
   "source": [
    "# 回傳值: ((訓練特徵, 訓練目標), (測試特徵, 測試目標))\n",
    "(x_train, y_train),(x_test, y_test) = mnist.load_data()"
   ]
  },
  {
   "cell_type": "code",
   "execution_count": 3,
   "metadata": {},
   "outputs": [
    {
     "data": {
      "text/plain": [
       "(60000, 28, 28)"
      ]
     },
     "execution_count": 3,
     "metadata": {},
     "output_type": "execute_result"
    }
   ],
   "source": [
    "x_train.shape"
   ]
  },
  {
   "cell_type": "code",
   "execution_count": 4,
   "metadata": {},
   "outputs": [],
   "source": [
    "from keras.utils import np_utils\n",
    "# reshape 讓他從 32 * 32 變成 784 * 1 的一維陣列\n",
    "# 讓我們標準化到-1~1 區間\n",
    "x_train_shaped = (x_train.reshape(60000, 784).astype(\"float32\") - 127.5)/127.5\n",
    "x_test_shaped = (x_test.reshape(10000, 784).astype(\"float32\") - 127.5)/127.5"
   ]
  },
  {
   "cell_type": "code",
   "execution_count": 5,
   "metadata": {},
   "outputs": [
    {
     "name": "stderr",
     "output_type": "stream",
     "text": [
      "WARNING: Logging before flag parsing goes to stderr.\n",
      "W0823 22:17:20.438017  9120 deprecation_wrapper.py:119] From c:\\users\\big data\\appdata\\local\\programs\\python\\python37\\lib\\site-packages\\keras\\backend\\tensorflow_backend.py:66: The name tf.get_default_graph is deprecated. Please use tf.compat.v1.get_default_graph instead.\n",
      "\n",
      "W0823 22:17:20.451980  9120 deprecation_wrapper.py:119] From c:\\users\\big data\\appdata\\local\\programs\\python\\python37\\lib\\site-packages\\keras\\backend\\tensorflow_backend.py:541: The name tf.placeholder is deprecated. Please use tf.compat.v1.placeholder instead.\n",
      "\n",
      "W0823 22:17:20.453975  9120 deprecation_wrapper.py:119] From c:\\users\\big data\\appdata\\local\\programs\\python\\python37\\lib\\site-packages\\keras\\backend\\tensorflow_backend.py:4409: The name tf.random_normal is deprecated. Please use tf.random.normal instead.\n",
      "\n",
      "W0823 22:17:20.514878  9120 deprecation_wrapper.py:119] From c:\\users\\big data\\appdata\\local\\programs\\python\\python37\\lib\\site-packages\\keras\\backend\\tensorflow_backend.py:148: The name tf.placeholder_with_default is deprecated. Please use tf.compat.v1.placeholder_with_default instead.\n",
      "\n",
      "W0823 22:17:20.627077  9120 deprecation_wrapper.py:119] From c:\\users\\big data\\appdata\\local\\programs\\python\\python37\\lib\\site-packages\\keras\\backend\\tensorflow_backend.py:4432: The name tf.random_uniform is deprecated. Please use tf.random.uniform instead.\n",
      "\n",
      "W0823 22:17:20.638039  9120 deprecation_wrapper.py:119] From c:\\users\\big data\\appdata\\local\\programs\\python\\python37\\lib\\site-packages\\keras\\optimizers.py:793: The name tf.train.Optimizer is deprecated. Please use tf.compat.v1.train.Optimizer instead.\n",
      "\n",
      "W0823 22:17:20.655971  9120 deprecation.py:323] From c:\\users\\big data\\appdata\\local\\programs\\python\\python37\\lib\\site-packages\\tensorflow\\python\\ops\\nn_impl.py:180: add_dispatch_support.<locals>.wrapper (from tensorflow.python.ops.array_ops) is deprecated and will be removed in a future version.\n",
      "Instructions for updating:\n",
      "Use tf.where in 2.0, which has the same broadcast rule as np.where\n"
     ]
    },
    {
     "name": "stdout",
     "output_type": "stream",
     "text": [
      "Model: \"sequential_1\"\n",
      "_________________________________________________________________\n",
      "Layer (type)                 Output Shape              Param #   \n",
      "=================================================================\n",
      "dense_1 (Dense)              (None, 256)               25856     \n",
      "_________________________________________________________________\n",
      "batch_normalization_1 (Batch (None, 256)               1024      \n",
      "_________________________________________________________________\n",
      "dense_2 (Dense)              (None, 512)               131584    \n",
      "_________________________________________________________________\n",
      "batch_normalization_2 (Batch (None, 512)               2048      \n",
      "_________________________________________________________________\n",
      "dense_3 (Dense)              (None, 784)               402192    \n",
      "=================================================================\n",
      "Total params: 562,704\n",
      "Trainable params: 561,168\n",
      "Non-trainable params: 1,536\n",
      "_________________________________________________________________\n"
     ]
    }
   ],
   "source": [
    "random_dim = 100\n",
    "generator = Sequential()\n",
    "generator.add(Dense(256, input_dim=random_dim,\n",
    "activation='relu',\n",
    "kernel_initializer=\"random_normal\"))\n",
    "generator.add(BatchNormalization())\n",
    "generator.add(Dense(512, activation='relu',\n",
    "kernel_initializer=\"random_normal\"))\n",
    "generator.add(BatchNormalization())\n",
    "generator.add(Dense(784, activation='tanh'))\n",
    "generator.compile(loss='binary_crossentropy', optimizer=\"adam\")\n",
    "generator.summary()"
   ]
  },
  {
   "cell_type": "code",
   "execution_count": 7,
   "metadata": {},
   "outputs": [
    {
     "name": "stderr",
     "output_type": "stream",
     "text": [
      "W0823 22:18:35.573176  9120 deprecation.py:506] From c:\\users\\big data\\appdata\\local\\programs\\python\\python37\\lib\\site-packages\\keras\\backend\\tensorflow_backend.py:3733: calling dropout (from tensorflow.python.ops.nn_ops) with keep_prob is deprecated and will be removed in a future version.\n",
      "Instructions for updating:\n",
      "Please use `rate` instead of `keep_prob`. Rate should be set to `rate = 1 - keep_prob`.\n"
     ]
    },
    {
     "name": "stdout",
     "output_type": "stream",
     "text": [
      "Model: \"sequential_2\"\n",
      "_________________________________________________________________\n",
      "Layer (type)                 Output Shape              Param #   \n",
      "=================================================================\n",
      "dense_4 (Dense)              (None, 1024)              803840    \n",
      "_________________________________________________________________\n",
      "dropout_1 (Dropout)          (None, 1024)              0         \n",
      "_________________________________________________________________\n",
      "dense_5 (Dense)              (None, 512)               524800    \n",
      "_________________________________________________________________\n",
      "dropout_2 (Dropout)          (None, 512)               0         \n",
      "_________________________________________________________________\n",
      "dense_6 (Dense)              (None, 256)               131328    \n",
      "_________________________________________________________________\n",
      "dropout_3 (Dropout)          (None, 256)               0         \n",
      "_________________________________________________________________\n",
      "dense_7 (Dense)              (None, 1)                 257       \n",
      "=================================================================\n",
      "Total params: 1,460,225\n",
      "Trainable params: 1,460,225\n",
      "Non-trainable params: 0\n",
      "_________________________________________________________________\n"
     ]
    }
   ],
   "source": [
    "discriminator = Sequential()\n",
    "discriminator.add(Dense(1024, input_dim=784,\n",
    "                  activation='relu',\n",
    "                  kernel_initializer=\"random_normal\"))\n",
    "discriminator.add(Dropout(0.25))\n",
    "discriminator.add(Dense(512, activation='relu',\n",
    "                        kernel_initializer=\"random_normal\"))\n",
    "discriminator.add(Dropout(0.25))\n",
    "discriminator.add(Dense(256, activation='relu',\n",
    "                        kernel_initializer=\"random_normal\"))\n",
    "discriminator.add(Dropout(0.25))\n",
    "discriminator.add(Dense(1, activation='sigmoid'))\n",
    "discriminator.compile(loss='binary_crossentropy', optimizer=\"adam\")\n",
    "discriminator.summary()"
   ]
  },
  {
   "cell_type": "code",
   "execution_count": 8,
   "metadata": {},
   "outputs": [
    {
     "name": "stdout",
     "output_type": "stream",
     "text": [
      "Model: \"model_1\"\n",
      "_________________________________________________________________\n",
      "Layer (type)                 Output Shape              Param #   \n",
      "=================================================================\n",
      "input_1 (InputLayer)         (None, 100)               0         \n",
      "_________________________________________________________________\n",
      "sequential_1 (Sequential)    (None, 784)               562704    \n",
      "_________________________________________________________________\n",
      "sequential_2 (Sequential)    (None, 1)                 1460225   \n",
      "=================================================================\n",
      "Total params: 2,022,929\n",
      "Trainable params: 561,168\n",
      "Non-trainable params: 1,461,761\n",
      "_________________________________________________________________\n"
     ]
    }
   ],
   "source": [
    "discriminator.trainable = False\n",
    "gan_input = Input(shape=(random_dim,))\n",
    "x = generator(gan_input)\n",
    "gan_output = discriminator(x)\n",
    "gan = Model(inputs=gan_input, outputs=gan_output)\n",
    "gan.compile(loss='binary_crossentropy', optimizer=\"adam\")\n",
    "gan.summary()"
   ]
  },
  {
   "cell_type": "code",
   "execution_count": 9,
   "metadata": {},
   "outputs": [
    {
     "name": "stdout",
     "output_type": "stream",
     "text": [
      "--------------- epoch 0 ---------------\n",
      "Discriminator loss: 0.026143576949834824\n",
      "Generator loss: 7.773514\n",
      "--------------- epoch 1 ---------------\n",
      "Discriminator loss: 0.25199487805366516\n",
      "Generator loss: 2.7226312\n",
      "--------------- epoch 2 ---------------\n",
      "Discriminator loss: 0.4313018321990967\n",
      "Generator loss: 1.9830904\n",
      "--------------- epoch 3 ---------------\n",
      "Discriminator loss: 0.48726487159729004\n",
      "Generator loss: 1.3608181\n",
      "--------------- epoch 4 ---------------\n",
      "Discriminator loss: 0.512583315372467\n",
      "Generator loss: 1.3912177\n",
      "--------------- epoch 5 ---------------\n",
      "Discriminator loss: 0.4896329343318939\n",
      "Generator loss: 1.2975153\n",
      "--------------- epoch 6 ---------------\n",
      "Discriminator loss: 0.5414829254150391\n",
      "Generator loss: 1.200383\n",
      "--------------- epoch 7 ---------------\n",
      "Discriminator loss: 0.5472079515457153\n",
      "Generator loss: 1.209134\n",
      "--------------- epoch 8 ---------------\n",
      "Discriminator loss: 0.6000778675079346\n",
      "Generator loss: 0.96790195\n",
      "--------------- epoch 9 ---------------\n",
      "Discriminator loss: 0.5775104761123657\n",
      "Generator loss: 1.0693729\n"
     ]
    }
   ],
   "source": [
    "batch_size = 200\n",
    "epoch_count = 10\n",
    "d_loss_list = []\n",
    "g_loss_list = []\n",
    "for epoch in range(0, epoch_count):\n",
    "    for batch_count in range(0, 300):\n",
    "        idx = np.random.randint(0, x_train.shape[0], batch_size)\n",
    "        imgs = x_train_shaped[idx]\n",
    "        valid = np.ones((batch_size, 1))\n",
    "        fake = np.zeros((batch_size, 1))\n",
    "        # 步驟 0: 讓創作家製造出 fake image\n",
    "        noise = np.random.normal(0, 1, (batch_size, random_dim))\n",
    "        gen_imgs = generator.predict(noise)\n",
    "        discriminator.trainable = True\n",
    "        # 步驟 1: 讓鑑賞家鑑賞對的 image\n",
    "        d_loss_real = discriminator.train_on_batch(imgs, valid)\n",
    "        # 步驟 2: 讓鑑賞家鑑賞錯的 image\n",
    "        d_loss_fake = discriminator.train_on_batch(gen_imgs, fake)\n",
    "        d_loss = (d_loss_real + d_loss_fake) / 2\n",
    "        discriminator.trainable = False\n",
    "        noise = np.random.normal(0, 1, (batch_size, random_dim))\n",
    "        # 步驟 3: 訓練創作家的創作能力\n",
    "        g_loss = gan.train_on_batch(noise, valid)\n",
    "    dash = \"-\" * 15\n",
    "    print(dash, \"epoch\", epoch, dash)\n",
    "    print(\"Discriminator loss:\", d_loss)\n",
    "    print(\"Generator loss:\", g_loss)\n",
    "    d_loss_list.append(d_loss)\n",
    "    g_loss_list.append(g_loss)"
   ]
  },
  {
   "cell_type": "code",
   "execution_count": 10,
   "metadata": {},
   "outputs": [
    {
     "data": {
      "image/png": "[encoded data removed]",
      "text/plain": [
       "<Figure size 1008x1008 with 5 Axes>"
      ]
     },
     "metadata": {
      "needs_background": "light"
     },
     "output_type": "display_data"
    }
   ],
   "source": [
    "import matplotlib.pyplot as plt\n",
    "%matplotlib inline\n",
    "examples = 5\n",
    "noise = np.random.normal(0, 1, (examples, random_dim))\n",
    "gen_imgs = generator.predict(noise)\n",
    "\n",
    "# Rescale images 0 - 1\n",
    "gen_imgs = 0.5 * gen_imgs + 0.5\n",
    "gen_imgs = gen_imgs.reshape(examples, 28, 28)\n",
    "plt.figure(figsize = (14, 14))\n",
    "for i in range(0, examples):\n",
    "    plt.subplot(1, examples, i + 1)\n",
    "    plt.imshow(gen_imgs[i], cmap='gray')"
   ]
  }
 ],
 "metadata": {
  "kernelspec": {
   "display_name": "Python 3",
   "language": "python",
   "name": "python3"
  },
  "language_info": {
   "codemirror_mode": {
    "name": "ipython",
    "version": 3
   },
   "file_extension": ".py",
   "mimetype": "text/x-python",
   "name": "python",
   "nbconvert_exporter": "python",
   "pygments_lexer": "ipython3",
   "version": "3.7.0"
  }
 },
 "nbformat": 4,
 "nbformat_minor": 2
}
