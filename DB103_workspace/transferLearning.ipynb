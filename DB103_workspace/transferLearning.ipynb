{
 "cells": [
  {
   "cell_type": "code",
   "execution_count": 1,
   "metadata": {},
   "outputs": [
    {
     "data": {
      "text/html": [
       "<div>\n",
       "<style scoped>\n",
       "    .dataframe tbody tr th:only-of-type {\n",
       "        vertical-align: middle;\n",
       "    }\n",
       "\n",
       "    .dataframe tbody tr th {\n",
       "        vertical-align: top;\n",
       "    }\n",
       "\n",
       "    .dataframe thead th {\n",
       "        text-align: right;\n",
       "    }\n",
       "</style>\n",
       "<table border=\"1\" class=\"dataframe\">\n",
       "  <thead>\n",
       "    <tr style=\"text-align: right;\">\n",
       "      <th></th>\n",
       "      <th>path</th>\n",
       "      <th>ans</th>\n",
       "    </tr>\n",
       "  </thead>\n",
       "  <tbody>\n",
       "    <tr>\n",
       "      <td>0</td>\n",
       "      <td>train\\cat.0.jpg</td>\n",
       "      <td>0</td>\n",
       "    </tr>\n",
       "    <tr>\n",
       "      <td>1</td>\n",
       "      <td>train\\cat.1.jpg</td>\n",
       "      <td>0</td>\n",
       "    </tr>\n",
       "    <tr>\n",
       "      <td>2</td>\n",
       "      <td>train\\cat.10.jpg</td>\n",
       "      <td>0</td>\n",
       "    </tr>\n",
       "    <tr>\n",
       "      <td>3</td>\n",
       "      <td>train\\cat.100.jpg</td>\n",
       "      <td>0</td>\n",
       "    </tr>\n",
       "    <tr>\n",
       "      <td>4</td>\n",
       "      <td>train\\cat.1000.jpg</td>\n",
       "      <td>0</td>\n",
       "    </tr>\n",
       "    <tr>\n",
       "      <td>...</td>\n",
       "      <td>...</td>\n",
       "      <td>...</td>\n",
       "    </tr>\n",
       "    <tr>\n",
       "      <td>24995</td>\n",
       "      <td>train\\dog.9995.jpg</td>\n",
       "      <td>1</td>\n",
       "    </tr>\n",
       "    <tr>\n",
       "      <td>24996</td>\n",
       "      <td>train\\dog.9996.jpg</td>\n",
       "      <td>1</td>\n",
       "    </tr>\n",
       "    <tr>\n",
       "      <td>24997</td>\n",
       "      <td>train\\dog.9997.jpg</td>\n",
       "      <td>1</td>\n",
       "    </tr>\n",
       "    <tr>\n",
       "      <td>24998</td>\n",
       "      <td>train\\dog.9998.jpg</td>\n",
       "      <td>1</td>\n",
       "    </tr>\n",
       "    <tr>\n",
       "      <td>24999</td>\n",
       "      <td>train\\dog.9999.jpg</td>\n",
       "      <td>1</td>\n",
       "    </tr>\n",
       "  </tbody>\n",
       "</table>\n",
       "<p>25000 rows × 2 columns</p>\n",
       "</div>"
      ],
      "text/plain": [
       "                     path  ans\n",
       "0         train\\cat.0.jpg    0\n",
       "1         train\\cat.1.jpg    0\n",
       "2        train\\cat.10.jpg    0\n",
       "3       train\\cat.100.jpg    0\n",
       "4      train\\cat.1000.jpg    0\n",
       "...                   ...  ...\n",
       "24995  train\\dog.9995.jpg    1\n",
       "24996  train\\dog.9996.jpg    1\n",
       "24997  train\\dog.9997.jpg    1\n",
       "24998  train\\dog.9998.jpg    1\n",
       "24999  train\\dog.9999.jpg    1\n",
       "\n",
       "[25000 rows x 2 columns]"
      ]
     },
     "execution_count": 1,
     "metadata": {},
     "output_type": "execute_result"
    }
   ],
   "source": [
    "import glob\n",
    "import pandas as pd\n",
    "cat = glob.glob('train/cat.*.jpg')\n",
    "dog = glob.glob('train/dog.*.jpg')\n",
    "data = pd.DataFrame({\n",
    "    'path':cat+dog,\n",
    "    'ans':[0]*len(cat) + [1]*len(dog)\n",
    "})\n",
    "data"
   ]
  },
  {
   "cell_type": "code",
   "execution_count": 2,
   "metadata": {},
   "outputs": [
    {
     "name": "stderr",
     "output_type": "stream",
     "text": [
      "Using TensorFlow backend.\n",
      "WARNING: Logging before flag parsing goes to stderr.\n",
      "W1007 15:51:26.892546 16992 deprecation_wrapper.py:119] From C:\\Users\\Big data\\AppData\\Local\\Programs\\Python\\Python37\\lib\\site-packages\\keras\\backend\\tensorflow_backend.py:66: The name tf.get_default_graph is deprecated. Please use tf.compat.v1.get_default_graph instead.\n",
      "\n",
      "W1007 15:51:26.906529 16992 deprecation_wrapper.py:119] From C:\\Users\\Big data\\AppData\\Local\\Programs\\Python\\Python37\\lib\\site-packages\\keras\\backend\\tensorflow_backend.py:541: The name tf.placeholder is deprecated. Please use tf.compat.v1.placeholder instead.\n",
      "\n",
      "W1007 15:51:26.908505 16992 deprecation_wrapper.py:119] From C:\\Users\\Big data\\AppData\\Local\\Programs\\Python\\Python37\\lib\\site-packages\\keras\\backend\\tensorflow_backend.py:4432: The name tf.random_uniform is deprecated. Please use tf.random.uniform instead.\n",
      "\n",
      "W1007 15:51:26.927479 16992 deprecation_wrapper.py:119] From C:\\Users\\Big data\\AppData\\Local\\Programs\\Python\\Python37\\lib\\site-packages\\keras\\backend\\tensorflow_backend.py:4267: The name tf.nn.max_pool is deprecated. Please use tf.nn.max_pool2d instead.\n",
      "\n",
      "W1007 15:51:27.222696 16992 deprecation_wrapper.py:119] From C:\\Users\\Big data\\AppData\\Local\\Programs\\Python\\Python37\\lib\\site-packages\\keras\\backend\\tensorflow_backend.py:190: The name tf.get_default_session is deprecated. Please use tf.compat.v1.get_default_session instead.\n",
      "\n",
      "W1007 15:51:27.223696 16992 deprecation_wrapper.py:119] From C:\\Users\\Big data\\AppData\\Local\\Programs\\Python\\Python37\\lib\\site-packages\\keras\\backend\\tensorflow_backend.py:197: The name tf.ConfigProto is deprecated. Please use tf.compat.v1.ConfigProto instead.\n",
      "\n"
     ]
    },
    {
     "name": "stdout",
     "output_type": "stream",
     "text": [
      "Model: \"vgg16\"\n",
      "_________________________________________________________________\n",
      "Layer (type)                 Output Shape              Param #   \n",
      "=================================================================\n",
      "input_1 (InputLayer)         (None, 224, 224, 3)       0         \n",
      "_________________________________________________________________\n",
      "block1_conv1 (Conv2D)        (None, 224, 224, 64)      1792      \n",
      "_________________________________________________________________\n",
      "block1_conv2 (Conv2D)        (None, 224, 224, 64)      36928     \n",
      "_________________________________________________________________\n",
      "block1_pool (MaxPooling2D)   (None, 112, 112, 64)      0         \n",
      "_________________________________________________________________\n",
      "block2_conv1 (Conv2D)        (None, 112, 112, 128)     73856     \n",
      "_________________________________________________________________\n",
      "block2_conv2 (Conv2D)        (None, 112, 112, 128)     147584    \n",
      "_________________________________________________________________\n",
      "block2_pool (MaxPooling2D)   (None, 56, 56, 128)       0         \n",
      "_________________________________________________________________\n",
      "block3_conv1 (Conv2D)        (None, 56, 56, 256)       295168    \n",
      "_________________________________________________________________\n",
      "block3_conv2 (Conv2D)        (None, 56, 56, 256)       590080    \n",
      "_________________________________________________________________\n",
      "block3_conv3 (Conv2D)        (None, 56, 56, 256)       590080    \n",
      "_________________________________________________________________\n",
      "block3_pool (MaxPooling2D)   (None, 28, 28, 256)       0         \n",
      "_________________________________________________________________\n",
      "block4_conv1 (Conv2D)        (None, 28, 28, 512)       1180160   \n",
      "_________________________________________________________________\n",
      "block4_conv2 (Conv2D)        (None, 28, 28, 512)       2359808   \n",
      "_________________________________________________________________\n",
      "block4_conv3 (Conv2D)        (None, 28, 28, 512)       2359808   \n",
      "_________________________________________________________________\n",
      "block4_pool (MaxPooling2D)   (None, 14, 14, 512)       0         \n",
      "_________________________________________________________________\n",
      "block5_conv1 (Conv2D)        (None, 14, 14, 512)       2359808   \n",
      "_________________________________________________________________\n",
      "block5_conv2 (Conv2D)        (None, 14, 14, 512)       2359808   \n",
      "_________________________________________________________________\n",
      "block5_conv3 (Conv2D)        (None, 14, 14, 512)       2359808   \n",
      "_________________________________________________________________\n",
      "block5_pool (MaxPooling2D)   (None, 7, 7, 512)         0         \n",
      "=================================================================\n",
      "Total params: 14,714,688\n",
      "Trainable params: 14,714,688\n",
      "Non-trainable params: 0\n",
      "_________________________________________________________________\n"
     ]
    }
   ],
   "source": [
    "# include_top= whether should the cnn do MLP?answer is no here\n",
    "# input_shape=224*224 as the same for imageNet comp. for the best performance\n",
    "from keras.applications.vgg16 import VGG16\n",
    "vgg = VGG16(include_top=False, input_shape=(224,224,3))\n",
    "vgg.summary()"
   ]
  },
  {
   "cell_type": "code",
   "execution_count": 3,
   "metadata": {},
   "outputs": [
    {
     "name": "stdout",
     "output_type": "stream",
     "text": [
      "hello\n"
     ]
    }
   ],
   "source": [
    "def test():\n",
    "    return print\n",
    "test()('hello')"
   ]
  },
  {
   "cell_type": "code",
   "execution_count": null,
   "metadata": {},
   "outputs": [],
   "source": []
  },
  {
   "cell_type": "code",
   "execution_count": 4,
   "metadata": {},
   "outputs": [
    {
     "name": "stderr",
     "output_type": "stream",
     "text": [
      "W1007 15:51:27.597232 16992 deprecation.py:506] From C:\\Users\\Big data\\AppData\\Local\\Programs\\Python\\Python37\\lib\\site-packages\\keras\\backend\\tensorflow_backend.py:3733: calling dropout (from tensorflow.python.ops.nn_ops) with keep_prob is deprecated and will be removed in a future version.\n",
      "Instructions for updating:\n",
      "Please use `rate` instead of `keep_prob`. Rate should be set to `rate = 1 - keep_prob`.\n"
     ]
    },
    {
     "name": "stdout",
     "output_type": "stream",
     "text": [
      "Model: \"model_1\"\n",
      "_________________________________________________________________\n",
      "Layer (type)                 Output Shape              Param #   \n",
      "=================================================================\n",
      "input_1 (InputLayer)         (None, 224, 224, 3)       0         \n",
      "_________________________________________________________________\n",
      "block1_conv1 (Conv2D)        (None, 224, 224, 64)      1792      \n",
      "_________________________________________________________________\n",
      "block1_conv2 (Conv2D)        (None, 224, 224, 64)      36928     \n",
      "_________________________________________________________________\n",
      "block1_pool (MaxPooling2D)   (None, 112, 112, 64)      0         \n",
      "_________________________________________________________________\n",
      "block2_conv1 (Conv2D)        (None, 112, 112, 128)     73856     \n",
      "_________________________________________________________________\n",
      "block2_conv2 (Conv2D)        (None, 112, 112, 128)     147584    \n",
      "_________________________________________________________________\n",
      "block2_pool (MaxPooling2D)   (None, 56, 56, 128)       0         \n",
      "_________________________________________________________________\n",
      "block3_conv1 (Conv2D)        (None, 56, 56, 256)       295168    \n",
      "_________________________________________________________________\n",
      "block3_conv2 (Conv2D)        (None, 56, 56, 256)       590080    \n",
      "_________________________________________________________________\n",
      "block3_conv3 (Conv2D)        (None, 56, 56, 256)       590080    \n",
      "_________________________________________________________________\n",
      "block3_pool (MaxPooling2D)   (None, 28, 28, 256)       0         \n",
      "_________________________________________________________________\n",
      "block4_conv1 (Conv2D)        (None, 28, 28, 512)       1180160   \n",
      "_________________________________________________________________\n",
      "block4_conv2 (Conv2D)        (None, 28, 28, 512)       2359808   \n",
      "_________________________________________________________________\n",
      "block4_conv3 (Conv2D)        (None, 28, 28, 512)       2359808   \n",
      "_________________________________________________________________\n",
      "block4_pool (MaxPooling2D)   (None, 14, 14, 512)       0         \n",
      "_________________________________________________________________\n",
      "block5_conv1 (Conv2D)        (None, 14, 14, 512)       2359808   \n",
      "_________________________________________________________________\n",
      "block5_conv2 (Conv2D)        (None, 14, 14, 512)       2359808   \n",
      "_________________________________________________________________\n",
      "block5_conv3 (Conv2D)        (None, 14, 14, 512)       2359808   \n",
      "_________________________________________________________________\n",
      "block5_pool (MaxPooling2D)   (None, 7, 7, 512)         0         \n",
      "_________________________________________________________________\n",
      "flatten_1 (Flatten)          (None, 25088)             0         \n",
      "_________________________________________________________________\n",
      "dense_1 (Dense)              (None, 2048)              51382272  \n",
      "_________________________________________________________________\n",
      "dropout_1 (Dropout)          (None, 2048)              0         \n",
      "_________________________________________________________________\n",
      "dense_2 (Dense)              (None, 256)               524544    \n",
      "_________________________________________________________________\n",
      "dropout_2 (Dropout)          (None, 256)               0         \n",
      "_________________________________________________________________\n",
      "dense_3 (Dense)              (None, 2)                 514       \n",
      "=================================================================\n",
      "Total params: 66,622,018\n",
      "Trainable params: 51,907,330\n",
      "Non-trainable params: 14,714,688\n",
      "_________________________________________________________________\n"
     ]
    }
   ],
   "source": [
    "from keras.layers import Flatten, Dense, Dropout\n",
    "from keras.models import Model\n",
    "# Dense(256, acitivation='relu') -> function(e.g. return print)\n",
    "# tensor = func(tensor)\n",
    "for l in vgg.layers:\n",
    "    l.trainable = False\n",
    "x = Flatten()(vgg.output)\n",
    "x = Dense(2048,activation='relu')(x)\n",
    "x = Dropout(0.25)(x)\n",
    "x = Dense(256,activation='relu')(x)\n",
    "x = Dropout(0.25)(x)\n",
    "x = Dense(2, activation='softmax')(x)\n",
    "# Model(inputs = tensor, outputs = tensor)\n",
    "cnn = Model(inputs=vgg.input, outputs=x)\n",
    "cnn.summary()"
   ]
  },
  {
   "cell_type": "code",
   "execution_count": 5,
   "metadata": {},
   "outputs": [
    {
     "name": "stderr",
     "output_type": "stream",
     "text": [
      "W1007 15:51:27.707901 16992 deprecation_wrapper.py:119] From C:\\Users\\Big data\\AppData\\Local\\Programs\\Python\\Python37\\lib\\site-packages\\keras\\optimizers.py:793: The name tf.train.Optimizer is deprecated. Please use tf.compat.v1.train.Optimizer instead.\n",
      "\n"
     ]
    }
   ],
   "source": [
    "# trainable should be set b4 compiling\n",
    "cnn.compile(loss='categorical_crossentropy',\n",
    "           optimizer='adam',\n",
    "           metrics=['accuracy'])"
   ]
  },
  {
   "cell_type": "code",
   "execution_count": 6,
   "metadata": {},
   "outputs": [],
   "source": [
    "from sklearn.model_selection import train_test_split\n",
    "# !do not use list or dataframe after training phase, use np.array ONLY\n",
    "import numpy as np\n",
    "from keras.utils.np_utils import to_categorical\n",
    "x = np.array(data['path'])\n",
    "y = np.array(data['ans'])\n",
    "y_cat = to_categorical(y)\n",
    "x_train, x_test, y_train, y_test = train_test_split(x,y_cat,test_size=0.1)"
   ]
  },
  {
   "cell_type": "code",
   "execution_count": 7,
   "metadata": {},
   "outputs": [
    {
     "data": {
      "text/plain": [
       "array([[[120.061    , 110.221    , 101.32     ],\n",
       "        [120.061    , 110.221    , 101.32     ],\n",
       "        [120.061    , 110.221    , 101.32     ],\n",
       "        ...,\n",
       "        [-26.939003 , -29.779    , -36.68     ],\n",
       "        [-14.939003 , -17.779    , -24.68     ],\n",
       "        [ -3.939003 ,  -5.7789993, -14.68     ]],\n",
       "\n",
       "       [[120.061    , 110.221    , 101.32     ],\n",
       "        [120.061    , 110.221    , 101.32     ],\n",
       "        [120.061    , 110.221    , 101.32     ],\n",
       "        ...,\n",
       "        [-74.939    , -77.779    , -84.68     ],\n",
       "        [-78.939    , -81.779    , -88.68     ],\n",
       "        [-79.939    , -82.779    , -89.68     ]],\n",
       "\n",
       "       [[120.061    , 110.221    , 101.32     ],\n",
       "        [120.061    , 110.221    , 101.32     ],\n",
       "        [120.061    , 110.221    , 101.32     ],\n",
       "        ...,\n",
       "        [ 13.060997 ,  10.221001 ,   3.3199997],\n",
       "        [ 11.060997 ,   8.221001 ,   1.3199997],\n",
       "        [  6.060997 ,   1.2210007,  -5.6800003]],\n",
       "\n",
       "       ...,\n",
       "\n",
       "       [[108.061    ,  99.221    ,  87.32     ],\n",
       "        [100.061    ,  94.221    ,  84.32     ],\n",
       "        [ 78.061    ,  77.221    ,  70.32     ],\n",
       "        ...,\n",
       "        [ 23.060997 ,  22.221    ,  15.32     ],\n",
       "        [ 23.060997 ,  22.221    ,  15.32     ],\n",
       "        [ 20.060997 ,  18.221    ,   9.32     ]],\n",
       "\n",
       "       [[111.061    , 102.221    ,  90.32     ],\n",
       "        [104.061    ,  98.221    ,  88.32     ],\n",
       "        [ 87.061    ,  86.221    ,  79.32     ],\n",
       "        ...,\n",
       "        [  5.060997 ,   4.2210007,  -2.6800003],\n",
       "        [  9.060997 ,   8.221001 ,   1.3199997],\n",
       "        [ 21.060997 ,  19.221    ,  10.32     ]],\n",
       "\n",
       "       [[121.061    , 112.221    , 100.32     ],\n",
       "        [119.061    , 113.221    , 103.32     ],\n",
       "        [110.061    , 109.221    , 102.32     ],\n",
       "        ...,\n",
       "        [ -4.939003 ,  -5.7789993, -12.68     ],\n",
       "        [-21.939003 , -22.779    , -29.68     ],\n",
       "        [ -0.939003 ,  -2.7789993, -11.68     ]]], dtype=float32)"
      ]
     },
     "execution_count": 7,
     "metadata": {},
     "output_type": "execute_result"
    }
   ],
   "source": [
    "# pillow(pil)\n",
    "from keras.preprocessing.image import load_img\n",
    "# preprocessing depends on the model used\n",
    "from keras.applications.vgg16 import preprocess_input\n",
    "img = load_img(x_train[0], target_size=(224,224)).convert('RGB')\n",
    "img_np = np.array(img)\n",
    "preprocess_input(img_np)"
   ]
  },
  {
   "cell_type": "code",
   "execution_count": 8,
   "metadata": {},
   "outputs": [],
   "source": [
    "# x=pic, y=ans, batch=qty\n",
    "# return(original pics)\n",
    "def get_data(x,y,batch):\n",
    "    idx = np.random.randint(0,x.shape[0],batch)\n",
    "    oriimgs = []\n",
    "    preimgs = []\n",
    "    for p in x[idx]:\n",
    "        img = load_img(p, target_size=(224,224)).convert('RGB')\n",
    "        img_np = np.array(img)\n",
    "        oriimgs.append(img_np)\n",
    "        img_pre = preprocess_input(img_np)\n",
    "        preimgs.append(img_pre)\n",
    "    oriimgs = np.array(oriimgs)\n",
    "    preimgs = np.array(preimgs)\n",
    "    ans = y[idx]\n",
    "    return (oriimgs, preimgs, ans)"
   ]
  },
  {
   "cell_type": "code",
   "execution_count": 9,
   "metadata": {},
   "outputs": [
    {
     "name": "stderr",
     "output_type": "stream",
     "text": [
      "W1007 15:51:28.672694 16992 deprecation.py:323] From C:\\Users\\Big data\\AppData\\Local\\Programs\\Python\\Python37\\lib\\site-packages\\tensorflow\\python\\ops\\math_grad.py:1250: add_dispatch_support.<locals>.wrapper (from tensorflow.python.ops.array_ops) is deprecated and will be removed in a future version.\n",
      "Instructions for updating:\n",
      "Use tf.where in 2.0, which has the same broadcast rule as np.where\n"
     ]
    },
    {
     "name": "stdout",
     "output_type": "stream",
     "text": [
      "times 1\n",
      "train= [7.7213697, 0.3]\n",
      "test= [1.3698113, 0.9]\n",
      "------------------------------\n",
      "times 2\n",
      "train= [2.9400983, 0.8]\n",
      "test= [7.2531433, 0.55]\n",
      "------------------------------\n",
      "times 3\n",
      "train= [9.670857, 0.4]\n",
      "test= [10.476762, 0.35]\n",
      "------------------------------\n",
      "times 4\n",
      "train= [6.447238, 0.6]\n",
      "test= [10.476762, 0.35]\n",
      "------------------------------\n",
      "times 5\n",
      "train= [8.059048, 0.5]\n",
      "test= [7.2531433, 0.55]\n",
      "------------------------------\n",
      "times 6\n",
      "train= [8.059048, 0.5]\n",
      "test= [9.670857, 0.4]\n",
      "------------------------------\n",
      "times 7\n",
      "train= [11.282667, 0.3]\n",
      "test= [9.670857, 0.4]\n",
      "------------------------------\n",
      "times 8\n",
      "train= [9.670857, 0.4]\n",
      "test= [11.282667, 0.3]\n",
      "------------------------------\n",
      "times 9\n",
      "train= [14.506287, 0.1]\n",
      "test= [7.2531433, 0.55]\n",
      "------------------------------\n",
      "times 10\n",
      "train= [8.059048, 0.5]\n",
      "test= [6.447238, 0.6]\n",
      "------------------------------\n"
     ]
    }
   ],
   "source": [
    "# train_on_batch\n",
    "# test_on_batch\n",
    "for i in range(10):\n",
    "    print('times',i+1)\n",
    "    batch = 10\n",
    "    train = get_data(x_train, y_train, batch)\n",
    "    train_result = cnn.train_on_batch(train[1],train[2])\n",
    "    print('train=',train_result)\n",
    "    # more validation pics, higher accuracy\n",
    "    test_batch = 20\n",
    "    test = get_data(x_test,y_test,test_batch)\n",
    "    test_result = cnn.test_on_batch(test[1],test[2])\n",
    "    print('test=',test_result)\n",
    "    print('-'*30)"
   ]
  },
  {
   "cell_type": "code",
   "execution_count": 10,
   "metadata": {},
   "outputs": [
    {
     "data": {
      "text/plain": [
       "array([[1., 0.],\n",
       "       [1., 0.],\n",
       "       [1., 0.],\n",
       "       [1., 0.],\n",
       "       [1., 0.],\n",
       "       [1., 0.],\n",
       "       [1., 0.],\n",
       "       [1., 0.],\n",
       "       [1., 0.],\n",
       "       [1., 0.],\n",
       "       [1., 0.],\n",
       "       [1., 0.],\n",
       "       [1., 0.],\n",
       "       [1., 0.],\n",
       "       [1., 0.],\n",
       "       [1., 0.],\n",
       "       [1., 0.],\n",
       "       [1., 0.],\n",
       "       [1., 0.],\n",
       "       [1., 0.]], dtype=float32)"
      ]
     },
     "execution_count": 10,
     "metadata": {},
     "output_type": "execute_result"
    }
   ],
   "source": [
    "# what's wrong?\n",
    "# all cats but no dogs?(or vise versa?)\n",
    "# should not see possibilities of 1 (100%) or 0\n",
    "cnn.predict(test[1])"
   ]
  },
  {
   "cell_type": "code",
   "execution_count": 11,
   "metadata": {},
   "outputs": [
    {
     "data": {
      "text/plain": [
       "array([[0., 1.],\n",
       "       [1., 0.],\n",
       "       [0., 1.],\n",
       "       [1., 0.],\n",
       "       [1., 0.],\n",
       "       [1., 0.],\n",
       "       [1., 0.],\n",
       "       [1., 0.],\n",
       "       [1., 0.],\n",
       "       [0., 1.],\n",
       "       [0., 1.],\n",
       "       [1., 0.],\n",
       "       [0., 1.],\n",
       "       [1., 0.],\n",
       "       [1., 0.],\n",
       "       [0., 1.],\n",
       "       [1., 0.],\n",
       "       [0., 1.],\n",
       "       [0., 1.],\n",
       "       [1., 0.]], dtype=float32)"
      ]
     },
     "execution_count": 11,
     "metadata": {},
     "output_type": "execute_result"
    }
   ],
   "source": [
    "test[2]"
   ]
  },
  {
   "cell_type": "code",
   "execution_count": null,
   "metadata": {},
   "outputs": [],
   "source": []
  }
 ],
 "metadata": {
  "kernelspec": {
   "display_name": "Python 3",
   "language": "python",
   "name": "python3"
  },
  "language_info": {
   "codemirror_mode": {
    "name": "ipython",
    "version": 3
   },
   "file_extension": ".py",
   "mimetype": "text/x-python",
   "name": "python",
   "nbconvert_exporter": "python",
   "pygments_lexer": "ipython3",
   "version": "3.7.0"
  }
 },
 "nbformat": 4,
 "nbformat_minor": 2
}
